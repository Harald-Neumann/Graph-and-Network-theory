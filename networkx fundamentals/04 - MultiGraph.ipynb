{
 "cells": [
  {
   "cell_type": "markdown",
   "metadata": {},
   "source": [
    "Network Science with Python and NetworkX Quick Start Guide - Chapter 2"
   ]
  },
  {
   "cell_type": "code",
   "execution_count": 1,
   "metadata": {},
   "outputs": [],
   "source": [
    "import networkx as nx\n",
    "from matplotlib import pyplot as plt\n",
    "%matplotlib inline\n",
    "plt.rcParams.update({\"figure.figsize\": (10, 10)})\n",
    "\n",
    "\n",
    "import random\n",
    "from numpy import random as nprand\n",
    "seed = hash(\"Neumann\") % 2**32\n",
    "nprand.seed(seed)\n",
    "random.seed(seed)"
   ]
  },
  {
   "cell_type": "code",
   "execution_count": 2,
   "metadata": {},
   "outputs": [
    {
     "data": {
      "text/plain": [
       "[0, 1, 0, 0, 0, 1, 0]"
      ]
     },
     "execution_count": 2,
     "metadata": {},
     "output_type": "execute_result"
    }
   ],
   "source": [
    "Koenigsberg = nx.MultiGraph()\n",
    "Koenigsberg.add_edges_from([ \n",
    "    (\"North Bank\", \"Kneiphof\", {\"bridge\": \"Krämerbrücke\"}), \n",
    "    (\"North Bank\", \"Kneiphof\", {\"bridge\": \"Schmiedebrücke\"}), \n",
    "    (\"North Bank\", \"Lomse\",    {\"bridge\": \"Holzbrücke\"}), \n",
    "    (\"Lomse\",      \"Kneiphof\", {\"bridge\": \"Dombrücke\"}), \n",
    "    (\"South Bank\", \"Kneiphof\", {\"bridge\": \"Grüne Brücke\"}), \n",
    "    (\"South Bank\", \"Kneiphof\", {\"bridge\": \"Köttelbrücke\"}), \n",
    "    (\"South Bank\", \"Lomse\",    {\"bridge\": \"Hohe Brücke\"})])"
   ]
  },
  {
   "cell_type": "code",
   "execution_count": 15,
   "metadata": {},
   "outputs": [
    {
     "data": {
      "text/plain": [
       "('North Bank', 'Kneiphof', 0)"
      ]
     },
     "execution_count": 15,
     "metadata": {},
     "output_type": "execute_result"
    }
   ],
   "source": [
    "list(Koenigsberg.edges)[0]"
   ]
  },
  {
   "cell_type": "code",
   "execution_count": 16,
   "metadata": {},
   "outputs": [
    {
     "data": {
      "text/plain": [
       "{'bridge': 'Krämerbrücke'}"
      ]
     },
     "execution_count": 16,
     "metadata": {},
     "output_type": "execute_result"
    }
   ],
   "source": [
    "Koenigsberg.edges[(\"North Bank\", \"Kneiphof\", 0)]"
   ]
  },
  {
   "cell_type": "code",
   "execution_count": null,
   "metadata": {},
   "outputs": [],
   "source": []
  }
 ],
 "metadata": {
  "kernelspec": {
   "display_name": "Python 3.10.0 ('venv': venv)",
   "language": "python",
   "name": "python3"
  },
  "language_info": {
   "codemirror_mode": {
    "name": "ipython",
    "version": 3
   },
   "file_extension": ".py",
   "mimetype": "text/x-python",
   "name": "python",
   "nbconvert_exporter": "python",
   "pygments_lexer": "ipython3",
   "version": "3.10.0"
  },
  "orig_nbformat": 4,
  "vscode": {
   "interpreter": {
    "hash": "ac8d96771a277e6341be89ce9a868989ed4899b6c8b6a8c286d6f0a88c7ef86b"
   }
  }
 },
 "nbformat": 4,
 "nbformat_minor": 2
}
